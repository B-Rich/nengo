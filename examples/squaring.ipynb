{
 "metadata": {
  "name": ""
 },
 "nbformat": 3,
 "nbformat_minor": 0,
 "worksheets": [
  {
   "cells": [
    {
     "cell_type": "markdown",
     "metadata": {},
     "source": [
      "# Nengo Example: Squaring the Input"
     ]
    },
    {
     "cell_type": "markdown",
     "metadata": {},
     "source": [
      "This demo shows you how to construct a network that squares the value encoded in a first population in the output of a second population. "
     ]
    },
    {
     "cell_type": "code",
     "collapsed": false,
     "input": [
      "import numpy as np\n",
      "import matplotlib.pyplot as plt\n",
      "%matplotlib inline\n",
      "\n",
      "import nengo\n",
      "%load_ext nengo.ipynb"
     ],
     "language": "python",
     "metadata": {},
     "outputs": [
      {
       "output_type": "display_data",
       "text": [
        "<IPython.core.display.Javascript at 0x7f891df31a90>"
       ]
      }
     ]
    },
    {
     "cell_type": "markdown",
     "metadata": {},
     "source": [
      "## Step 1: Create the Model"
     ]
    },
    {
     "cell_type": "markdown",
     "metadata": {},
     "source": [
      "The model is comprised of an input ensemble ('A') and an output ensemble ('B'), from which the squared value of the input signal can be decoded."
     ]
    },
    {
     "cell_type": "code",
     "collapsed": false,
     "input": [
      "# Create the model object\n",
      "model = nengo.Network(label='Squaring')\n",
      "with model:\n",
      "    # Create two ensembles of 100 leaky-integrate-and-fire neurons\n",
      "    A = nengo.Ensemble(100, dimensions=1)\n",
      "    B = nengo.Ensemble(100, dimensions=1)"
     ],
     "language": "python",
     "metadata": {},
     "outputs": [],
     "prompt_number": 2
    },
    {
     "cell_type": "markdown",
     "metadata": {},
     "source": [
      "## Step 2: Provide Input to the Model"
     ]
    },
    {
     "cell_type": "markdown",
     "metadata": {},
     "source": [
      "A single input signal (a sine wave) will be used to drive the neural activity in ensemble A."
     ]
    },
    {
     "cell_type": "code",
     "collapsed": false,
     "input": [
      "with model:\n",
      "    # Create an input node that represents a sine wave\n",
      "    sin = nengo.Node(np.sin)\n",
      "\n",
      "    # Connect the input node to ensemble A\n",
      "    nengo.Connection(sin, A)\n",
      "\n",
      "    # Define the squaring function\n",
      "    def square(x):\n",
      "        return x[0] * x[0]\n",
      "\n",
      "    # Connection ensemble A to ensemble B\n",
      "    nengo.Connection(A, B, function=square)"
     ],
     "language": "python",
     "metadata": {},
     "outputs": [],
     "prompt_number": 3
    },
    {
     "cell_type": "markdown",
     "metadata": {},
     "source": [
      "## Step 3: Probe the Output"
     ]
    },
    {
     "cell_type": "markdown",
     "metadata": {},
     "source": [
      "Let's collect output data from each ensemble and output."
     ]
    },
    {
     "cell_type": "code",
     "collapsed": false,
     "input": [
      "with model:\n",
      "    sin_probe = nengo.Probe(sin)\n",
      "    A_probe = nengo.Probe(A, synapse=0.01)\n",
      "    B_probe = nengo.Probe(B, synapse=0.01)"
     ],
     "language": "python",
     "metadata": {},
     "outputs": [],
     "prompt_number": 4
    },
    {
     "cell_type": "markdown",
     "metadata": {},
     "source": [
      "## Step 4: Run the Model"
     ]
    },
    {
     "cell_type": "code",
     "collapsed": false,
     "input": [
      "# Create the simulator\n",
      "with nengo.Simulator(model) as sim:\n",
      "    # Run the simulator for 5 seconds\n",
      "    sim.run(5)"
     ],
     "language": "python",
     "metadata": {},
     "outputs": [
      {
       "output_type": "stream",
       "stream": "stderr",
       "text": [
        "/home/travis/build/nengo/nengo/nengo/builder/optimizer.py:636: UserWarning: Skipping some optimization steps because SciPy is not installed. Installing SciPy may result in faster simulations.\n",
        "  warnings.warn(\"Skipping some optimization steps because SciPy is \"\n"
       ]
      }
     ],
     "prompt_number": 5
    },
    {
     "cell_type": "code",
     "collapsed": false,
     "input": [
      "# Plot the input signal and decoded ensemble values\n",
      "plt.figure()\n",
      "plt.plot(\n",
      "    sim.trange(), sim.data[A_probe],  label='Decoded Ensemble A')\n",
      "plt.plot(\n",
      "    sim.trange(), sim.data[B_probe], label='Decoded Ensemble B')\n",
      "plt.plot(\n",
      "    sim.trange(), sim.data[sin_probe], label='Input Sine Wave',\n",
      "    color='k', linewidth=2.0)\n",
      "plt.legend(loc='best')\n",
      "plt.ylim(-1.2, 1.2);"
     ],
     "language": "python",
     "metadata": {},
     "outputs": [
      {
       "output_type": "display_data",
       "png": "[encoded data removed]",
       "text": [
        "<matplotlib.figure.Figure at 0x7f8913f1b0b8>"
       ]
      }
     ],
     "prompt_number": 6
    },
    {
     "cell_type": "markdown",
     "metadata": {},
     "source": [
      "The plotted ouput of ensemble B should show the decoded squared value of the input sine wave.  "
     ]
    }
   ],
   "metadata": {}
  }
 ]
}